{
 "cells": [
  {
   "cell_type": "code",
   "execution_count": 1,
   "metadata": {
    "collapsed": false
   },
   "outputs": [
    {
     "name": "stdout",
     "output_type": "stream",
     "text": [
      "Successfully imported Spark Modules\n"
     ]
    }
   ],
   "source": [
    "# Configure Spark environment\n",
    "import os\n",
    "import sys\n",
    " \n",
    "spark_home = os.environ.get('SPARK_HOME', None)\n",
    "sys.path.insert(0, spark_home + \"/python\")\n",
    " \n",
    "# Add py4j to the path with the version matching the SPARK_HOME/python/lib content\n",
    "sys.path.insert(0, os.path.join(spark_home, 'python/lib/py4j-0.9-src.zip'))\n",
    "\n",
    "try:\n",
    "    from pyspark import SparkContext\n",
    "    from pyspark import SparkConf\n",
    "    print (\"Successfully imported Spark Modules\")\n",
    "\n",
    "except ImportError as e:\n",
    "    print (\"Can not import Spark Modules\", e)\n",
    "    sys.exit(1)"
   ]
  },
  {
   "cell_type": "code",
   "execution_count": 13,
   "metadata": {
    "collapsed": true
   },
   "outputs": [],
   "source": [
    "from pyspark import StorageLevel"
   ]
  },
  {
   "cell_type": "code",
   "execution_count": 2,
   "metadata": {
    "collapsed": false,
    "scrolled": true
   },
   "outputs": [],
   "source": [
    "sc = SparkContext(\"local\")\n",
    "trainRDD = sc.textFile(\"/home/hugo/Documents/Challenge Datascience/kaggle/Santander Product Recommandation/train_ver2.csv\").map(lambda x : x.split(\",\")).cache()"
   ]
  },
  {
   "cell_type": "code",
   "execution_count": 4,
   "metadata": {
    "collapsed": false
   },
   "outputs": [
    {
     "name": "stdout",
     "output_type": "stream",
     "text": [
      "13647310\n"
     ]
    }
   ],
   "source": [
    "print(trainRDD.count())"
   ]
  },
  {
   "cell_type": "code",
   "execution_count": 14,
   "metadata": {
    "collapsed": false
   },
   "outputs": [
    {
     "name": "stdout",
     "output_type": "stream",
     "text": [
      "956646\n"
     ]
    }
   ],
   "source": [
    "trainCustomer = trainRDD.map(lambda x : x[1]).distinct()\n",
    "trainCustomer.persist(StorageLevel.MEMORY_AND_DISK)\n",
    "countCustomer = trainCustomer.count()\n",
    "print(countCustomer)"
   ]
  },
  {
   "cell_type": "code",
   "execution_count": 15,
   "metadata": {
    "collapsed": false
   },
   "outputs": [
    {
     "name": "stdout",
     "output_type": "stream",
     "text": [
      "929616\n"
     ]
    }
   ],
   "source": [
    "testRDD = sc.textFile(\"/home/hugo/Documents/Challenge Datascience/kaggle/Santander Product Recommandation/test_ver2.csv\").map(lambda x : x.split(\",\")).persist(StorageLevel.MEMORY_AND_DISK)\n",
    "testCustomer = testRDD.map(lambda x : x[1]).distinct()\n",
    "testCustomer.persist(StorageLevel.MEMORY_AND_DISK)\n",
    "countCustomerTest = testCustomer.count()\n",
    "print(countCustomerTest)"
   ]
  },
  {
   "cell_type": "code",
   "execution_count": 16,
   "metadata": {
    "collapsed": false
   },
   "outputs": [
    {
     "name": "stdout",
     "output_type": "stream",
     "text": [
      "27030\n"
     ]
    }
   ],
   "source": [
    "unknowCustomer = trainCustomer.subtract(testCustomer)\n",
    "print(unknowCustomer.count())"
   ]
  }
 ],
 "metadata": {
  "kernelspec": {
   "display_name": "Python [Root]",
   "language": "python",
   "name": "Python [Root]"
  },
  "language_info": {
   "codemirror_mode": {
    "name": "ipython",
    "version": 2
   },
   "file_extension": ".py",
   "mimetype": "text/x-python",
   "name": "python",
   "nbconvert_exporter": "python",
   "pygments_lexer": "ipython2",
   "version": "2.7.12"
  }
 },
 "nbformat": 4,
 "nbformat_minor": 0
}
